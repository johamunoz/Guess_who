{
 "cells": [
  {
   "cell_type": "markdown",
   "metadata": {
    "collapsed": false
   },
   "source": [
    "# Guess who?"
   ]
  },
  {
   "cell_type": "markdown",
   "metadata": {
    "collapsed": false
   },
   "source": [
    "<img src=\"Guess_pics.png\" alt=\"Drawing\" style=\"width: 600px;\"/>"
   ]
  },
  {
   "cell_type": "code",
   "execution_count": 23,
   "metadata": {
    "cocalc": {
     "outputs": {
      "1": {
       "name": "input",
       "opts": {
        "password": false,
        "prompt": ""
       },
       "output_type": "stream",
       "value": "Johanna"
      },
      "3": {
       "name": "input",
       "opts": {
        "password": false,
        "prompt": ""
       },
       "output_type": "stream",
       "value": "Maria"
      },
      "4": {
       "name": "input",
       "opts": {
        "password": false,
        "prompt": ""
       },
       "output_type": "stream"
      },
      "5": {
       "name": "input",
       "opts": {
        "password": false,
        "prompt": ""
       },
       "output_type": "stream",
       "value": "Alfred"
      },
      "7": {
       "name": "input",
       "opts": {
        "password": false,
        "prompt": ""
       },
       "output_type": "stream"
      }
     }
    },
    "collapsed": false
   },
   "outputs": [
    {
     "name": "stdout",
     "output_type": "stream",
     "text": [
      "Hello! What is your name?\n"
     ]
    },
    {
     "name": "stdout",
     "output_type": "stream",
     "text": " Johanna"
    },
    {
     "name": "stdout",
     "output_type": "stream",
     "text": [
      "Well, Johanna from the above persons, I selected one. So you have 3 trials to guess\n",
      "Take a guess.\n"
     ]
    },
    {
     "name": "stdout",
     "output_type": "stream",
     "text": " Maria"
    },
    {
     "name": "stdout",
     "output_type": "stream",
     "text": [
      "Johanna, you are wrong :(. The selected person has a mustache. You still have 2 trial(s) to guess.\n",
      "Take a guess.\n"
     ]
    },
    {
     "name": "stdout",
     "output_type": "stream",
     "text": " Alfred"
    },
    {
     "name": "stdout",
     "output_type": "stream",
     "text": [
      "Johanna, you are wrong :(. The selected person has brown hair. You still have 1 trial(s) to guess.\n",
      "Take a guess.\n"
     ]
    },
    {
     "name": "stdout",
     "output_type": "stream",
     "text": " "
    }
   ],
   "source": [
    "import pandas as pd\n",
    "import numpy as np\n",
    "import random\n",
    "import time\n",
    "data = pd.read_csv(\"Guess_who.csv\")\n",
    "headers = np.array(data.columns)  # get headers\n",
    "values = data.values  # numpy array of values\n",
    "matrix = np.concatenate([[headers], values])  # append to the final matrix\n",
    "\n",
    "#User information\n",
    "print('Hello! What is your name?')\n",
    "time.sleep(0.20)\n",
    "\n",
    "user  = input()\n",
    "\n",
    "print('Well, ' + user + ' from the above persons, I selected one. So you have 3 trials to guess')\n",
    "time.sleep(0.15)\n",
    "\n",
    "# Randomly select one person\n",
    "selected=np.squeeze(matrix[np.where(matrix[:,0] ==random.choice(range(24)))])\n",
    "\n",
    "ntrial=3 #Number of trials\n",
    "ind=0 # Guess condition\n",
    "\n",
    "while (ntrial > 0 and ind==0):\n",
    "    #Ask user for a guess\n",
    "    print('Take a guess.')\n",
    "    time.sleep(0.15)\n",
    "    guess = input()\n",
    "    picked=np.squeeze(matrix[np.where(matrix[:,1] == guess)])\n",
    "    \n",
    "    # If name is not on the list\n",
    "    if (len(picked)==0):\n",
    "        ntrial=ntrial-1\n",
    "        print('The name you introduced is not on the persons list, you have '+str(ntrial)+\" trial(s) left\")\n",
    "        time.sleep(0.05)\n",
    "    else:\n",
    "        \n",
    "        #Compare the selected and user guess\n",
    "        val=selected ==picked\n",
    "        #Characteristics that differ betweens selected and picked option\n",
    "        diff=[i for i,v in enumerate(headers) if val[i] == False][2:] \n",
    "        \n",
    "        #User guessed the person\n",
    "        if (len(diff)==0):\n",
    "            print('Well done '+ user + \" you guessed the person :)!\")\n",
    "            time.sleep(0.05)\n",
    "            ind = 1\n",
    "        #If not give a clue\n",
    "        else:\n",
    "            ntrial=ntrial-1\n",
    "            item = random.choice(diff)# randomly select one characteristic for displayed as clue\n",
    "            if(item == 6):\n",
    "                clue=\" is \"+selected[item]+\".\"\n",
    "            elif(item in [2,3,5,7,8]):\n",
    "                clue=\" has \"+selected[item]+\" \"+headers[item]+\".\"\n",
    "            else:\n",
    "                clue= \" \"+ selected[item]+\" \"+headers[item]+\".\"\n",
    "            #Print the clue\n",
    "            print(user +\", you are wrong :(. The selected person\"+clue+ \" You still have \"+str(ntrial)+\" trial(s) to guess.\")\n",
    "            time.sleep(0.10)\n",
    "\n",
    "    #If no more trials\n",
    "    if(ntrial==0):\n",
    "        print(\"Sorry \"+user+\", no more trials :(. The selected person was \"+ selected[1]+\".\")\n",
    "          "
   ]
  },
  {
   "cell_type": "code",
   "execution_count": 0,
   "metadata": {
    "collapsed": false
   },
   "outputs": [
   ],
   "source": [
   ]
  },
  {
   "cell_type": "code",
   "execution_count": 0,
   "metadata": {
    "collapsed": false
   },
   "outputs": [
   ],
   "source": [
   ]
  },
  {
   "cell_type": "code",
   "execution_count": 0,
   "metadata": {
    "collapsed": false
   },
   "outputs": [
   ],
   "source": [
   ]
  },
  {
   "cell_type": "code",
   "execution_count": 0,
   "metadata": {
    "collapsed": false
   },
   "outputs": [
   ],
   "source": [
   ]
  },
  {
   "cell_type": "code",
   "execution_count": 0,
   "metadata": {
    "collapsed": false
   },
   "outputs": [
   ],
   "source": [
   ]
  }
 ],
 "metadata": {
  "kernelspec": {
   "display_name": "Python 3 (system-wide)",
   "language": "python",
   "metadata": {
    "cocalc": {
     "description": "Python 3 programming language",
     "priority": 100,
     "url": "https://www.python.org/"
    }
   },
   "name": "python3"
  },
  "language_info": {
   "codemirror_mode": {
    "name": "ipython",
    "version": 3
   },
   "file_extension": ".py",
   "mimetype": "text/x-python",
   "name": "python",
   "nbconvert_exporter": "python",
   "pygments_lexer": "ipython3",
   "version": "3.6.9"
  }
 },
 "nbformat": 4,
 "nbformat_minor": 4
}